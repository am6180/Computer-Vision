{
  "nbformat": 4,
  "nbformat_minor": 0,
  "metadata": {
    "kernelspec": {
      "display_name": "Python 3",
      "language": "python",
      "name": "python3"
    },
    "language_info": {
      "codemirror_mode": {
        "name": "ipython",
        "version": 3
      },
      "file_extension": ".py",
      "mimetype": "text/x-python",
      "name": "python",
      "nbconvert_exporter": "python",
      "pygments_lexer": "ipython3",
      "version": "3.7.3"
    },
    "colab": {
      "name": "HW4.ipynb",
      "provenance": [],
      "include_colab_link": true
    }
  },
  "cells": [
    {
      "cell_type": "markdown",
      "metadata": {
        "id": "view-in-github",
        "colab_type": "text"
      },
      "source": [
        "<a href=\"https://colab.research.google.com/github/am6180/Computer-Vision/blob/master/CNN.ipynb\" target=\"_parent\"><img src=\"https://colab.research.google.com/assets/colab-badge.svg\" alt=\"Open In Colab\"/></a>"
      ]
    },
    {
      "cell_type": "code",
      "metadata": {
        "id": "el9xb6-G5leg",
        "colab_type": "code",
        "colab": {}
      },
      "source": [
        "import torch\n",
        "import torch.nn as nn\n",
        "import torch.nn.functional as F\n",
        "from torch.utils.data import Dataset, DataLoader\n",
        "import torch.optim as optim\n",
        "\n",
        "from torchvision import transforms\n",
        "import numpy as np\n",
        "from helper import getBinaryfer13Data\n",
        "\n",
        "import pandas as pd"
      ],
      "execution_count": 0,
      "outputs": []
    },
    {
      "cell_type": "code",
      "metadata": {
        "id": "Hn1YjyEC5lel",
        "colab_type": "code",
        "colab": {
          "base_uri": "https://localhost:8080/",
          "height": 105
        },
        "outputId": "b43a132c-8b73-4c6b-c3cc-955d6182fe5f"
      },
      "source": [
        "X, Y = getBinaryfer13Data(\"fer3and4train.csv\")\n",
        "X = torch.tensor(X.reshape(12066,1,48,48), dtype=torch.float)\n",
        "Y = torch.tensor(Y)"
      ],
      "execution_count": 36,
      "outputs": [
        {
          "output_type": "stream",
          "text": [
            "/usr/local/lib/python3.6/dist-packages/ipykernel_launcher.py:1: UserWarning: To copy construct from a tensor, it is recommended to use sourceTensor.clone().detach() or sourceTensor.clone().detach().requires_grad_(True), rather than torch.tensor(sourceTensor).\n",
            "  \"\"\"Entry point for launching an IPython kernel.\n",
            "/usr/local/lib/python3.6/dist-packages/ipykernel_launcher.py:2: UserWarning: To copy construct from a tensor, it is recommended to use sourceTensor.clone().detach() or sourceTensor.clone().detach().requires_grad_(True), rather than torch.tensor(sourceTensor).\n",
            "  \n"
          ],
          "name": "stderr"
        }
      ]
    },
    {
      "cell_type": "code",
      "metadata": {
        "id": "wjJPGILUMl1m",
        "colab_type": "code",
        "colab": {}
      },
      "source": [
        "dataX = torch.utils.data.DataLoader(X, 10)\n",
        "dataY = torch.utils.data.DataLoader(Y, 10)"
      ],
      "execution_count": 0,
      "outputs": []
    },
    {
      "cell_type": "code",
      "metadata": {
        "id": "fzJ0i6y1OGoE",
        "colab_type": "code",
        "colab": {}
      },
      "source": [
        "class CNN(nn.Module):\n",
        "  def __init__(self):\n",
        "      super(CNN, self).__init__()\n",
        "\n",
        "      self.cnn_layers = nn.Sequential(\n",
        "            # Defining a 2D convolution layer\n",
        "            nn.Conv2d(1, 6, kernel_size=5, stride=1, padding=1),\n",
        "            nn.BatchNorm2d(6),\n",
        "            nn.ReLU(inplace=True),\n",
        "            nn.MaxPool2d(kernel_size=2, stride=2),\n",
        "            # Defining another 2D convolution layer\n",
        "            nn.Conv2d(6, 12, kernel_size=5, stride=1, padding=1),\n",
        "            nn.BatchNorm2d(12),\n",
        "            nn.ReLU(inplace=True),\n",
        "            nn.MaxPool2d(kernel_size=2, stride=2),\n",
        "        )\n",
        "\n",
        "      self.linear_layers = nn.Sequential(\n",
        "            nn.Linear(1200, 2)\n",
        "        )\n",
        "\n",
        "    # Defining the forward pass    \n",
        "  def forward(self, x):\n",
        "        x = self.cnn_layers(x)\n",
        "        x = x.view(x.size(0), -1)\n",
        "        x = self.linear_layers(x)\n",
        "        return x\n"
      ],
      "execution_count": 0,
      "outputs": []
    },
    {
      "cell_type": "code",
      "metadata": {
        "id": "aL-IaZTubvjV",
        "colab_type": "code",
        "colab": {}
      },
      "source": [
        "def correct_pred(preds, labels):\n",
        "  return preds.argmax(dim=1).eq(labels).sum().item()"
      ],
      "execution_count": 0,
      "outputs": []
    },
    {
      "cell_type": "code",
      "metadata": {
        "id": "NnEV5XB9OJ20",
        "colab_type": "code",
        "colab": {
          "base_uri": "https://localhost:8080/",
          "height": 374
        },
        "outputId": "b7b790ef-a5db-480c-d61c-5e9ea0adbd42"
      },
      "source": [
        "model = CNN()\n",
        "Image_data = torch.utils.data.DataLoader(X, 16)\n",
        "labels = torch.utils.data.DataLoader(Y, 16)\n",
        "optimize = optim.Adam(model.parameters(), 0.01)\n",
        "for i in range(20):\n",
        "  total_loss = 0\n",
        "  total_correct = 0\n",
        "  Ittrer = iter(labels)\n",
        "  for img in Image_data:\n",
        "    label = next(Ittrer)\n",
        "    # for label in labels:\n",
        "    pred = model(img)\n",
        "    loss = F.cross_entropy(pred, label.type(torch.LongTensor))\n",
        "\n",
        "    optimize.zero_grad()\n",
        "    loss.backward()\n",
        "    optimize.step()\n",
        "\n",
        "    total_loss += loss.item()\n",
        "    total_correct += correct_pred(pred, label)\n",
        "  print(\"epoch:\", i, \"total correct number:\", total_correct)\n",
        "print(\"Accuracy = \", Accuracy*100)\n"
      ],
      "execution_count": 82,
      "outputs": [
        {
          "output_type": "stream",
          "text": [
            "epoch: 0 total correct number: 8255\n",
            "epoch: 1 total correct number: 9331\n",
            "epoch: 2 total correct number: 9562\n",
            "epoch: 3 total correct number: 9721\n",
            "epoch: 4 total correct number: 9840\n",
            "epoch: 5 total correct number: 9925\n",
            "epoch: 6 total correct number: 10037\n",
            "epoch: 7 total correct number: 10092\n",
            "epoch: 8 total correct number: 10143\n",
            "epoch: 9 total correct number: 10193\n",
            "epoch: 10 total correct number: 10275\n",
            "epoch: 11 total correct number: 10263\n",
            "epoch: 12 total correct number: 10348\n",
            "epoch: 13 total correct number: 10407\n",
            "epoch: 14 total correct number: 10402\n",
            "epoch: 15 total correct number: 10398\n",
            "epoch: 16 total correct number: 10472\n",
            "epoch: 17 total correct number: 10482\n",
            "epoch: 18 total correct number: 10561\n",
            "epoch: 19 total correct number: 10569\n",
            "Accuracy =  80.7\n"
          ],
          "name": "stdout"
        }
      ]
    },
    {
      "cell_type": "code",
      "metadata": {
        "id": "YbUbOrOPaeSn",
        "colab_type": "code",
        "colab": {}
      },
      "source": [
        "X1, Y1 = getBinaryfer13Data(\"fer3and4test.csv\")\n",
        "X1 = torch.tensor(X1.reshape(3000,1,48,48), dtype=torch.float)\n",
        "Y1 = torch.tensor(Y1)"
      ],
      "execution_count": 0,
      "outputs": []
    },
    {
      "cell_type": "code",
      "metadata": {
        "id": "jiGaazB_RWJ2",
        "colab_type": "code",
        "colab": {
          "base_uri": "https://localhost:8080/",
          "height": 34
        },
        "outputId": "b61c00e0-05fa-4c21-9d4f-fea8b86a9dd7"
      },
      "source": [
        "Image_data = torch.utils.data.DataLoader(X1, 100)\n",
        "labels = torch.utils.data.DataLoader(Y1, 100)\n",
        "for i in range(20):\n",
        "  total_correct = 0\n",
        "  Ittrer = iter(labels)\n",
        "  for img in Image_data:\n",
        "    label = next(Ittrer)\n",
        "    pred = model(img)\n",
        "    total_correct += correct_pred(pred, label)\n",
        "  #print(\"epoch:\", i, \"total correct number:\", total_correct)\n",
        "Accuracy = total_correct/3000\n",
        "print(\"Accuracy = \", Accuracy*100)"
      ],
      "execution_count": 87,
      "outputs": [
        {
          "output_type": "stream",
          "text": [
            "Accuracy =  79.36666666666666\n"
          ],
          "name": "stdout"
        }
      ]
    },
    {
      "cell_type": "code",
      "metadata": {
        "id": "q7VpuEsigKvW",
        "colab_type": "code",
        "colab": {}
      },
      "source": [
        ""
      ],
      "execution_count": 0,
      "outputs": []
    }
  ]
}